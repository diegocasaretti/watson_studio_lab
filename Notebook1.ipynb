{
 "cells": [
  {
   "cell_type": "code",
   "execution_count": 2,
   "id": "enhanced-energy",
   "metadata": {
    "id": "10f0d8fc-48df-4931-a166-f5f5defdcde1",
    "tags": []
   },
   "outputs": [
    {
     "name": "stdout",
     "output_type": "stream",
     "text": [
      "ciao 1\n"
     ]
    }
   ],
   "source": [
    "print('ciao 1')"
   ]
  },
  {
   "cell_type": "code",
   "execution_count": null,
   "id": "intimate-traffic",
   "metadata": {
    "id": "0ed04c94-f922-4bac-8670-64d08b8998d7"
   },
   "outputs": [],
   "source": []
  }
 ],
 "metadata": {
  "kernelspec": {
   "display_name": "Python 3.9",
   "language": "python",
   "name": "python3"
  },
  "language_info": {
   "codemirror_mode": {
    "name": "ipython",
    "version": 3
   },
   "file_extension": ".py",
   "mimetype": "text/x-python",
   "name": "python",
   "nbconvert_exporter": "python",
   "pygments_lexer": "ipython3",
   "version": "3.9.7"
  }
 },
 "nbformat": 4,
 "nbformat_minor": 5
}
