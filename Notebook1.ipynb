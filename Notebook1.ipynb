{
 "cells": [
  {
   "cell_type": "code",
   "execution_count": 2,
   "id": "respiratory-camcorder",
   "metadata": {
    "id": "10f0d8fc-48df-4931-a166-f5f5defdcde1",
    "tags": []
   },
   "outputs": [
    {
     "name": "stdout",
     "output_type": "stream",
     "text": [
      "ciao 1\n"
     ]
    }
   ],
   "source": [
    "print('ciao 1')"
   ]
  },
  {
   "cell_type": "code",
   "execution_count": 1,
   "id": "handmade-wilson",
   "metadata": {
    "id": "0ed04c94-f922-4bac-8670-64d08b8998d7",
    "tags": []
   },
   "outputs": [
    {
     "name": "stdout",
     "output_type": "stream",
     "text": [
      "w la  prugna\n"
     ]
    }
   ],
   "source": [
    "print('w la  prugna')"
   ]
  },
  {
   "cell_type": "code",
   "execution_count": null,
   "id": "moved-requirement",
   "metadata": {
    "id": "6934d098-6b2b-46c6-abc9-bf4ad19d6bd5"
   },
   "outputs": [],
   "source": []
  }
 ],
 "metadata": {
  "kernelspec": {
   "display_name": "Python 3.9",
   "language": "python",
   "name": "python3"
  },
  "language_info": {
   "codemirror_mode": {
    "name": "ipython",
    "version": 3
   },
   "file_extension": ".py",
   "mimetype": "text/x-python",
   "name": "python",
   "nbconvert_exporter": "python",
   "pygments_lexer": "ipython3",
   "version": "3.9.7"
  }
 },
 "nbformat": 4,
 "nbformat_minor": 5
}
