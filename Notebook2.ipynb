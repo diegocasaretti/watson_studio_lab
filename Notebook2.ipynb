{
 "cells": [
  {
   "cell_type": "code",
   "execution_count": 1,
   "id": "collect-insurance",
   "metadata": {
    "id": "b8e776cc-abde-43f6-a611-b9a8cdcd6884",
    "tags": []
   },
   "outputs": [
    {
     "name": "stdout",
     "output_type": "stream",
     "text": [
      "ciao2\n"
     ]
    }
   ],
   "source": [
    "print('ciao2')"
   ]
  },
  {
   "cell_type": "code",
   "execution_count": null,
   "id": "aging-abraham",
   "metadata": {
    "id": "12938e82-e866-4110-b5cc-96fdb5a692fd"
   },
   "outputs": [],
   "source": []
  }
 ],
 "metadata": {
  "kernelspec": {
   "display_name": "Python 3.9",
   "language": "python",
   "name": "python3"
  },
  "language_info": {
   "codemirror_mode": {
    "name": "ipython",
    "version": 3
   },
   "file_extension": ".py",
   "mimetype": "text/x-python",
   "name": "python",
   "nbconvert_exporter": "python",
   "pygments_lexer": "ipython3",
   "version": "3.9.7"
  }
 },
 "nbformat": 4,
 "nbformat_minor": 5
}
